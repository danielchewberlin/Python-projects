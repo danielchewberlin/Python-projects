{
 "cells": [
  {
   "cell_type": "code",
   "execution_count": 37,
   "id": "b432c506",
   "metadata": {},
   "outputs": [
    {
     "data": {
      "image/png": "[encoded data removed]",
      "text/plain": [
       "<Figure size 640x480 with 1 Axes>"
      ]
     },
     "metadata": {},
     "output_type": "display_data"
    }
   ],
   "source": [
    "# A sample differentiation equation\n",
    "import math\n",
    "import matplotlib.pyplot as plt\n",
    "\n",
    "#import library\n",
    "import numpy as np\n",
    "import scipy as sc\n",
    "import matplotlib.pyplot as plt\n",
    "\n",
    "\n",
    "#diffrential equation\n",
    "def dydt(y,t):\n",
    "    dydt=-2*y*t\n",
    "    return dydt\n",
    "\n",
    "#create x axis for integration as the interval is from 0 to 2\n",
    "start=0\n",
    "end=2\n",
    "t=np.linspace(start,end,10)\n",
    "\n",
    "y0=1\n",
    "\n",
    "#integration of diffrential equation\n",
    "y=sc.integrate.odeint(dydt,y0,t)\n",
    "\n",
    "#plot reuslt\n",
    "plt.figure()\n",
    "plt.plot(t,y,'b',label='dy/dt')\n",
    "plt.title('y(t) versus (t)')\n",
    "plt.xlabel('t')\n",
    "plt.ylabel('y')\n",
    "plt.show()"
   ]
  },
  {
   "cell_type": "code",
   "execution_count": 16,
   "id": "4a418e84",
   "metadata": {},
   "outputs": [
    {
     "name": "stdout",
     "output_type": "stream",
     "text": [
      "[[2 4 6]\n",
      " [5 3 2]\n",
      " [2 3 8]]\n",
      "[[10]\n",
      " [ 8]\n",
      " [ 3]]\n",
      "[[-0.7037037 ]\n",
      " [ 4.62962963]\n",
      " [-1.18518519]]\n"
     ]
    }
   ],
   "source": [
    "import numpy as np\n",
    "import scipy as sc\n",
    "\n",
    "#Define the coefficient matrix A \n",
    "A= np.array([[2,4,6],[5,3,2],[2,3,8]])\n",
    "print (A)\n",
    "\n",
    "#Define the right-hand side vector b\n",
    "b= np.array ([[10],[8],[3]])\n",
    "print (b)\n",
    "\n",
    "# Use the solve function to find the solution vector directly\n",
    "C=sc.linalg.solve(A,b)\n",
    "print (C)"
   ]
  },
  {
   "cell_type": "code",
   "execution_count": null,
   "id": "4fb13c1d",
   "metadata": {},
   "outputs": [],
   "source": [
    "import requests \n",
    "def get_forecast(time, temperature_2m):\n",
    "    for weather in temperature_2m:\n",
    "        if weather['weather'].lower()== time.lower():\n",
    "            return weather['forecast']\n",
    "        return None\n",
    "\n",
    "def main():\n",
    "    api_url= \"https://api.open-meteo.com/v1/forecast?latitude=2.5&longitude=112.5&hourly=temperature_2m&timezone=Asia%2FSingapore&forecast_days=1\"\n",
    "    response = requests.get (api_url)\n",
    "\n",
    "    if response.ok:\n",
    "        try: \n",
    "            time = response .json()\n",
    "            \n",
    "            while True:\n",
    "                temperature_2m = input(\"Enter the number of day:\")\n",
    "                if not temperature_2m:\n",
    "                    break\n",
    "            \n",
    "            forecast= get_forecast(time, temperature_2m)\n",
    "            \n",
    "            if population is not None:\n",
    "                print(f\"Forecast of {temperature_2m}: {forecast}\")\n",
    "            else:\n",
    "                print(f\"{temperature_2m} is not found in the data.\") \n",
    "\n",
    "        except ValueError:\n",
    "            print(\"Error: Unable to parse JSON response.\")\n",
    "    else:\n",
    "        print(f\"Error: {response.status_code} - {response.reason}\")\n",
    "\n",
    "if __name__ == \"__main__\":\n",
    "    main()\n"
   ]
  },
  {
   "cell_type": "code",
   "execution_count": null,
   "id": "a5bc973c",
   "metadata": {},
   "outputs": [],
   "source": []
  }
 ],
 "metadata": {
  "kernelspec": {
   "display_name": "Python 3 (ipykernel)",
   "language": "python",
   "name": "python3"
  },
  "language_info": {
   "codemirror_mode": {
    "name": "ipython",
    "version": 3
   },
   "file_extension": ".py",
   "mimetype": "text/x-python",
   "name": "python",
   "nbconvert_exporter": "python",
   "pygments_lexer": "ipython3",
   "version": "3.11.5"
  }
 },
 "nbformat": 4,
 "nbformat_minor": 5
}
