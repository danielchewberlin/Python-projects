{
 "cells": [
  {
   "attachments": {},
   "cell_type": "markdown",
   "id": "776f02fe",
   "metadata": {},
   "source": [
    "# Positional Arguments\n",
    "def student_information(class_name, student_name):\n",
    "    # Display information about a student and their class.\n",
    "    \n",
    "    print(student_name + \" is enrolled in \" + class_name + \" class.\")\n",
    "    \n",
    "#positional arguments\n",
    "\n",
    "student_information('Mathematics', 'Alice')\n",
    "    "
   ]
  },
  {
   "cell_type": "markdown",
   "id": "81b1b352",
   "metadata": {},
   "source": [
    "# Positional Arguments"
   ]
  },
  {
   "cell_type": "code",
   "execution_count": 11,
   "id": "84d2c9a0",
   "metadata": {},
   "outputs": [
    {
     "name": "stdout",
     "output_type": "stream",
     "text": [
      "Alice is enrolled in Mathematics class.\n"
     ]
    }
   ],
   "source": [
    "def student_information(class_name, student_name):\n",
    "    # Display information about a students and their class.\n",
    "    print(student_name + \" is enrolled in \" + class_name +\" class.\" )\n",
    "    \n",
    "#Positional arguments:\n",
    "student_information('Mathematics','Alice')"
   ]
  },
  {
   "cell_type": "markdown",
   "id": "0d84f4d5",
   "metadata": {},
   "source": [
    "# Keyword Arguments"
   ]
  },
  {
   "cell_type": "code",
   "execution_count": 12,
   "id": "985d9c43",
   "metadata": {},
   "outputs": [
    {
     "name": "stdout",
     "output_type": "stream",
     "text": [
      "Alice is enrolled in Mathematics class.\n"
     ]
    }
   ],
   "source": [
    "def student_information(class_name, student_name):\n",
    "    # Display information about a student and their class.\n",
    "    print(student_name + \" is enrolled in \" + class_name + \" class.\")\n",
    "    \n",
    "# Keyword arguments:\n",
    "student_information(class_name='Mathematics', student_name='Alice')"
   ]
  },
  {
   "cell_type": "markdown",
   "id": "bf3ec8cb",
   "metadata": {},
   "source": [
    "# Default Arguments"
   ]
  },
  {
   "cell_type": "code",
   "execution_count": 18,
   "id": "0d525928",
   "metadata": {},
   "outputs": [
    {
     "name": "stdout",
     "output_type": "stream",
     "text": [
      "Student Name: Lina\n",
      "Enrolled Course: Introduction to Python\n",
      "Student Name: Sara\n",
      "Enrolled Course: Data Structures\n"
     ]
    }
   ],
   "source": [
    "def enroll_student(student_name, course='Introduction to Python'):\n",
    "    # Enroll a student in a course with a default option.\n",
    "    print(\"Student Name: \" + student_name)\n",
    "    print(\"Enrolled Course: \" + course)\n",
    "    \n",
    "    # Using the default argument for course:\n",
    "enroll_student(student_name='Lina')\n",
    "\n",
    "# Overriding the default argument for course:\n",
    "enroll_student(student_name='Sara', course='Data Structures')\n"
   ]
  },
  {
   "cell_type": "markdown",
   "id": "3b5d0b35",
   "metadata": {},
   "source": [
    "# Variable-length Arguments"
   ]
  },
  {
   "cell_type": "code",
   "execution_count": 25,
   "id": "00ad41a7",
   "metadata": {},
   "outputs": [
    {
     "name": "stdout",
     "output_type": "stream",
     "text": [
      "Student: Emily\n",
      "Enrolled in:\n",
      "- Biology 101\n",
      "- Chemistry 101\n",
      "- Physics 101\n",
      "Enrolling Smith with the following details:\n",
      "- Course: Algebra II\n",
      "- Semester: One\n",
      "- Payment Method: Credit Card\n"
     ]
    }
   ],
   "source": [
    "def enroll_in_courses(student_name, *courses):\n",
    "    # Enroll a student in multiple courses.\n",
    "    print(\"Student: \" + student_name)\n",
    "    print(\"Enrolled in:\")\n",
    "    for course in courses:\n",
    "        print(\"- \" + course)\n",
    "# Example of enrolling a student in three different courses:\n",
    "enroll_in_courses('Emily', 'Biology 101', 'Chemistry 101', 'Physics 101')\n",
    "\n",
    "\n",
    "def enroll_student(student_name, **details):\n",
    "     # Enroll a student with additional details.\n",
    "    print(\"Enrolling \" + student_name + \" with the following details:\")\n",
    "    for detail, value in details.items():\n",
    "        print(\"- \" + detail.replace('_', ' ').title() + \": \" + str(value))\n",
    "# Example of enrolling a student with additional details:\n",
    "enroll_student('Smith', course='Algebra II', semester='One', payment_method='Credit Card')\n"
   ]
  },
  {
   "cell_type": "code",
   "execution_count": 22,
   "id": "e73f4527",
   "metadata": {},
   "outputs": [
    {
     "name": "stdout",
     "output_type": "stream",
     "text": [
      "Checkout processed by John Doe for the following books: The Great Gatsby, To Kill a Mockingbird.\n",
      "Duration: 3 weeks\n",
      "Late Fee Per Day: 1.5\n",
      "\n"
     ]
    }
   ],
   "source": [
    "def checkout_books(librarian_name, *book_titles, duration='2 weeks', **kwargs):\n",
    "    \"\"\"\n",
    "    Manage book checkouts at a library.\n",
    "\n",
    "    Parameters:\n",
    "    - librarian_name (str): The name of the librarian processing the checkout.\n",
    "    - book_titles (tuple): One or more book titles being checked out.\n",
    "    - duration (str, optional): The standard checkout duration, default is '2 weeks'.\n",
    "    - **kwargs: Additional information about the checkout, such as late_fee per day or special_conditions.\n",
    "\n",
    "    Returns:\n",
    "    - str: A confirmation message for the checkout process.\n",
    "    \"\"\"\n",
    "    # Process the checkout information\n",
    "    checkout_info = {\n",
    "        'librarian': librarian_name,\n",
    "        'books': book_titles,\n",
    "        'duration': duration,\n",
    "        **kwargs  # Include additional information from kwargs\n",
    "    }\n",
    "\n",
    "    # Generate a confirmation message\n",
    "    confirmation_message = f\"Checkout processed by {librarian_name} for the following books: {', '.join(book_titles)}.\\n\"\n",
    "    confirmation_message += f\"Duration: {duration}\\n\"\n",
    "\n",
    "    # Include additional information from kwargs in the confirmation message\n",
    "    for key, value in kwargs.items():\n",
    "        confirmation_message += f\"{key.replace('_', ' ').title()}: {value}\\n\"\n",
    "\n",
    "    return confirmation_message\n",
    "\n",
    "# Example usage:\n",
    "librarian_name = \"John Doe\"\n",
    "book_titles = (\"The Great Gatsby\", \"To Kill a Mockingbird\")\n",
    "duration = '3 weeks'\n",
    "late_fee_per_day = 1.50\n",
    "\n",
    "confirmation = checkout_books(librarian_name, *book_titles, duration=duration, late_fee_per_day=late_fee_per_day)\n",
    "print(confirmation)\n"
   ]
  },
  {
   "cell_type": "code",
   "execution_count": null,
   "id": "f6d83d56",
   "metadata": {},
   "outputs": [],
   "source": []
  }
 ],
 "metadata": {
  "kernelspec": {
   "display_name": "Python 3 (ipykernel)",
   "language": "python",
   "name": "python3"
  },
  "language_info": {
   "codemirror_mode": {
    "name": "ipython",
    "version": 3
   },
   "file_extension": ".py",
   "mimetype": "text/x-python",
   "name": "python",
   "nbconvert_exporter": "python",
   "pygments_lexer": "ipython3",
   "version": "3.11.5"
  }
 },
 "nbformat": 4,
 "nbformat_minor": 5
}
