{
 "cells": [
  {
   "cell_type": "markdown",
   "id": "55db2824",
   "metadata": {},
   "source": [
    "# Positional Arguments\n",
    "def student_information(class_name, student_name):\n",
    "    # Display information about a student and their class.\n",
    "    \n",
    "    print(student_name + \" is enrolled in \" + class_name + \" class.\")\n",
    "    \n",
    "#positional arguments\n",
    "\n",
    "student_information('Mathematics', 'Alice')\n",
    "    "
   ]
  },
  {
   "cell_type": "markdown",
   "id": "ebc69fd3",
   "metadata": {},
   "source": [
    "# Positional Arguments"
   ]
  },
  {
   "cell_type": "code",
   "execution_count": 11,
   "id": "c7336a8f",
   "metadata": {},
   "outputs": [
    {
     "name": "stdout",
     "output_type": "stream",
     "text": [
      "Alice is enrolled in Mathematics class.\n"
     ]
    }
   ],
   "source": [
    "def student_information(class_name, student_name):\n",
    "    # Display information about a students and their class.\n",
    "    print(student_name + \" is enrolled in \" + class_name +\" class.\" )\n",
    "    \n",
    "#Positional arguments:\n",
    "student_information('Mathematics','Alice')"
   ]
  },
  {
   "cell_type": "markdown",
   "id": "aee7cced",
   "metadata": {},
   "source": [
    "# Keyword Arguments"
   ]
  },
  {
   "cell_type": "code",
   "execution_count": 12,
   "id": "e59c1cd6",
   "metadata": {},
   "outputs": [
    {
     "name": "stdout",
     "output_type": "stream",
     "text": [
      "Alice is enrolled in Mathematics class.\n"
     ]
    }
   ],
   "source": [
    "def student_information(class_name, student_name):\n",
    "    # Display information about a student and their class.\n",
    "    print(student_name + \" is enrolled in \" + class_name + \" class.\")\n",
    "    \n",
    "# Keyword arguments:\n",
    "student_information(class_name='Mathematics', student_name='Alice')"
   ]
  },
  {
   "cell_type": "markdown",
   "id": "f34064d5",
   "metadata": {},
   "source": [
    "# Default Arguments"
   ]
  },
  {
   "cell_type": "code",
   "execution_count": 18,
   "id": "3f757a0e",
   "metadata": {},
   "outputs": [
    {
     "name": "stdout",
     "output_type": "stream",
     "text": [
      "Student Name: Lina\n",
      "Enrolled Course: Introduction to Python\n",
      "Student Name: Sara\n",
      "Enrolled Course: Data Structures\n"
     ]
    }
   ],
   "source": [
    "def enroll_student(student_name, course='Introduction to Python'):\n",
    "    # Enroll a student in a course with a default option.\n",
    "    print(\"Student Name: \" + student_name)\n",
    "    print(\"Enrolled Course: \" + course)\n",
    "    \n",
    "    # Using the default argument for course:\n",
    "enroll_student(student_name='Lina')\n",
    "\n",
    "# Overriding the default argument for course:\n",
    "enroll_student(student_name='Sara', course='Data Structures')\n"
   ]
  },
  {
   "cell_type": "markdown",
   "id": "85651ddd",
   "metadata": {},
   "source": [
    "# Variable-length Arguments"
   ]
  },
  {
   "cell_type": "code",
   "execution_count": 25,
   "id": "4fd0b57b",
   "metadata": {},
   "outputs": [
    {
     "name": "stdout",
     "output_type": "stream",
     "text": [
      "Student: Emily\n",
      "Enrolled in:\n",
      "- Biology 101\n",
      "- Chemistry 101\n",
      "- Physics 101\n",
      "Enrolling Smith with the following details:\n",
      "- Course: Algebra II\n",
      "- Semester: One\n",
      "- Payment Method: Credit Card\n"
     ]
    }
   ],
   "source": [
    "def enroll_in_courses(student_name, *courses):\n",
    "    # Enroll a student in multiple courses.\n",
    "    print(\"Student: \" + student_name)\n",
    "    print(\"Enrolled in:\")\n",
    "    for course in courses:\n",
    "        print(\"- \" + course)\n",
    "# Example of enrolling a student in three different courses:\n",
    "enroll_in_courses('Emily', 'Biology 101', 'Chemistry 101', 'Physics 101')\n",
    "\n",
    "\n",
    "def enroll_student(student_name, **details):\n",
    "     # Enroll a student with additional details.\n",
    "    print(\"Enrolling \" + student_name + \" with the following details:\")\n",
    "    for detail, value in details.items():\n",
    "        print(\"- \" + detail.replace('_', ' ').title() + \": \" + str(value))\n",
    "# Example of enrolling a student with additional details:\n",
    "enroll_student('Smith', course='Algebra II', semester='One', payment_method='Credit Card')\n"
   ]
  },
  {
   "cell_type": "code",
   "execution_count": 10,
   "id": "c4aff501",
   "metadata": {},
   "outputs": [
    {
     "name": "stdout",
     "output_type": "stream",
     "text": [
      "Books Checked Out by:Sarah Connor\n",
      "Books Checked Out:1984 and Brave New World\n",
      "The checkout duration of the book:3 weeks.\n",
      "Additional Checkout Details:\n",
      "-Late Fee:$0.25\n",
      "-Renewals Allowed:2\n",
      "-Special Condition:Handle with care\n"
     ]
    }
   ],
   "source": [
    "def checkout_books(librarian_name):\n",
    "    #Display information about a librarian.\n",
    "    print('Books Checked Out by:' + librarian_name)   \n",
    "#Positional arguments:\n",
    "checkout_books('Sarah Connor')\n",
    "\n",
    "def book_title(book_title1, book_title2):\n",
    "    #Display information about a book.\n",
    "    print(\"Books Checked Out:\" + book_title1 +'and'+ book_title2)   \n",
    "#Positional arguments:\n",
    "book_title('1984 ', ' Brave New World')\n",
    "\n",
    "def checkout_duration(checkout_duration):\n",
    "    print(\"The checkout duration of the book:\"+checkout_duration)\n",
    "#Keyword arguments:\n",
    "checkout_duration('3 weeks.')\n",
    "\n",
    "def additional_checkout_details(book_title1,book_title2, **details):\n",
    "    #Checkout the book with additional details.\n",
    "    print(\"Additional Checkout Details:\")\n",
    "    for detail, value in details.items():\n",
    "        print(\"-\"+detail.replace('_',' ').title()+\":\"+str(value))\n",
    "        \n",
    "#Example of checkout the book with additional details.\n",
    "additional_checkout_details('1984 ',' Brave New World ', Late_fee='$0.25', Renewals_Allowed= \"2\", Special_Condition= \"Handle with care\")"
   ]
  },
  {
   "cell_type": "code",
   "execution_count": null,
   "id": "5bb09fe8",
   "metadata": {},
   "outputs": [],
   "source": []
  }
 ],
 "metadata": {
  "kernelspec": {
   "display_name": "Python 3 (ipykernel)",
   "language": "python",
   "name": "python3"
  },
  "language_info": {
   "codemirror_mode": {
    "name": "ipython",
    "version": 3
   },
   "file_extension": ".py",
   "mimetype": "text/x-python",
   "name": "python",
   "nbconvert_exporter": "python",
   "pygments_lexer": "ipython3",
   "version": "3.11.5"
  }
 },
 "nbformat": 4,
 "nbformat_minor": 5
}
