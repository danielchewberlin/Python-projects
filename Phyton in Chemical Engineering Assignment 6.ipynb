{
 "cells": [
  {
   "cell_type": "code",
   "execution_count": 12,
   "id": "7fe92aa6",
   "metadata": {},
   "outputs": [],
   "source": [
    "def specificvolPR(v,p):\n",
    "    # for n-nonane\n",
    "    Tc = 658.0  # K\n",
    "    pc = 24.1   # atm\n",
    "    T = 600     # K\n",
    "    R = 0.08206 # 1/gmol\n",
    "    acentric = 0.526\n",
    "    \n",
    "    mPR = 0.37363 + (1.54226 - 0.26992*acentric)*acentric\n",
    "    alphaPR = (1 + mPR*(1-(T/Tc)**0.5))**2\n",
    "    aPR = 0.45724*alphaPR*(R*Tc)**2/pc\n",
    "    bPR = 0.07780*(R*Tc/pc)\n",
    "    \n",
    "    return p*v**3 + (bPR*p - R*T)*v**2 + (aPR - p*bPR**2 - R*T*bPR)*v + (p*bPR**3 + R*T*bPR**2 - aPR*bPR)"
   ]
  },
  {
   "cell_type": "code",
   "execution_count": 13,
   "id": "b928cef4",
   "metadata": {},
   "outputs": [
    {
     "name": "stdout",
     "output_type": "stream",
     "text": [
      "-75.33599591033827\n"
     ]
    }
   ],
   "source": [
    "print(specificvolPR(2,3))"
   ]
  }
 ],
 "metadata": {
  "kernelspec": {
   "display_name": "Python 3 (ipykernel)",
   "language": "python",
   "name": "python3"
  },
  "language_info": {
   "codemirror_mode": {
    "name": "ipython",
    "version": 3
   },
   "file_extension": ".py",
   "mimetype": "text/x-python",
   "name": "python",
   "nbconvert_exporter": "python",
   "pygments_lexer": "ipython3",
   "version": "3.11.5"
  }
 },
 "nbformat": 4,
 "nbformat_minor": 5
}
