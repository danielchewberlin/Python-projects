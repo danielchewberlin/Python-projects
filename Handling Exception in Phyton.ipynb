{
 "cells": [
  {
   "cell_type": "code",
   "execution_count": 2,
   "id": "98fe79a1",
   "metadata": {},
   "outputs": [
    {
     "name": "stdout",
     "output_type": "stream",
     "text": [
      "enter a number:2\n"
     ]
    }
   ],
   "source": [
    "number= int(input('enter a number:'))\n",
    "\n"
   ]
  },
  {
   "cell_type": "code",
   "execution_count": 3,
   "id": "550a93da",
   "metadata": {},
   "outputs": [
    {
     "name": "stdout",
     "output_type": "stream",
     "text": [
      "The data that you input is not integer\n"
     ]
    }
   ],
   "source": [
    "try:\n",
    "   x = \"2\"+2\n",
    "except:\n",
    "  # Code that runs if the exception occurs\n",
    "    print(\"The data that you input is not integer\")\n"
   ]
  },
  {
   "cell_type": "code",
   "execution_count": 4,
   "id": "e0b01f25",
   "metadata": {},
   "outputs": [
    {
     "ename": "TypeError",
     "evalue": "can only concatenate str (not \"int\") to str",
     "output_type": "error",
     "traceback": [
      "\u001b[1;31m---------------------------------------------------------------------------\u001b[0m",
      "\u001b[1;31mTypeError\u001b[0m                                 Traceback (most recent call last)",
      "Cell \u001b[1;32mIn[4], line 1\u001b[0m\n\u001b[1;32m----> 1\u001b[0m x\u001b[38;5;241m=\u001b[39m\u001b[38;5;124m\"\u001b[39m\u001b[38;5;124m2\u001b[39m\u001b[38;5;124m\"\u001b[39m\u001b[38;5;241m+\u001b[39m\u001b[38;5;241m2\u001b[39m\n",
      "\u001b[1;31mTypeError\u001b[0m: can only concatenate str (not \"int\") to str"
     ]
    }
   ],
   "source": [
    "x=\"2\"+2"
   ]
  },
  {
   "cell_type": "code",
   "execution_count": 5,
   "id": "5984f81c",
   "metadata": {},
   "outputs": [
    {
     "name": "stdout",
     "output_type": "stream",
     "text": [
      "Please enter a valid number123\n"
     ]
    }
   ],
   "source": [
    "number= int(input(\"Please enter a valid number\"))"
   ]
  },
  {
   "cell_type": "code",
   "execution_count": 6,
   "id": "71818ad4",
   "metadata": {},
   "outputs": [
    {
     "name": "stdout",
     "output_type": "stream",
     "text": [
      "Please enter a valid numberhbdyeu\n"
     ]
    },
    {
     "ename": "ValueError",
     "evalue": "invalid literal for int() with base 10: 'hbdyeu'",
     "output_type": "error",
     "traceback": [
      "\u001b[1;31m---------------------------------------------------------------------------\u001b[0m",
      "\u001b[1;31mValueError\u001b[0m                                Traceback (most recent call last)",
      "Cell \u001b[1;32mIn[6], line 1\u001b[0m\n\u001b[1;32m----> 1\u001b[0m number\u001b[38;5;241m=\u001b[39m \u001b[38;5;28mint\u001b[39m(\u001b[38;5;28minput\u001b[39m(\u001b[38;5;124m\"\u001b[39m\u001b[38;5;124mPlease enter a valid number\u001b[39m\u001b[38;5;124m\"\u001b[39m))\n",
      "\u001b[1;31mValueError\u001b[0m: invalid literal for int() with base 10: 'hbdyeu'"
     ]
    }
   ],
   "source": [
    "number= int(input(\"Please enter a valid number\"))"
   ]
  },
  {
   "cell_type": "code",
   "execution_count": 7,
   "id": "35e9b2e3",
   "metadata": {
    "scrolled": true
   },
   "outputs": [
    {
     "name": "stdout",
     "output_type": "stream",
     "text": [
      "Please enter a valid numberxxx\n",
      "The data that you input is not a number\n"
     ]
    }
   ],
   "source": [
    "try:\n",
    "    number= int(input(\"Please enter a valid number\"))\n",
    "except:\n",
    "  # Code that runs if the exception occurs\n",
    "    print(\"The data that you input is not a number\")"
   ]
  },
  {
   "cell_type": "code",
   "execution_count": 8,
   "id": "99fb4afd",
   "metadata": {},
   "outputs": [
    {
     "name": "stdout",
     "output_type": "stream",
     "text": [
      "the value is not exist\n"
     ]
    }
   ],
   "source": [
    "my_list= [1,2,3]\n",
    "try:\n",
    "   my_list[10]\n",
    "except:\n",
    "    print(\"the value is not exist\")"
   ]
  },
  {
   "cell_type": "code",
   "execution_count": 9,
   "id": "7db2329f",
   "metadata": {},
   "outputs": [
    {
     "name": "stdout",
     "output_type": "stream",
     "text": [
      "the value is exist in the list\n"
     ]
    }
   ],
   "source": [
    "my_list= [1,2,3]\n",
    "try:\n",
    "   my_list[2]\n",
    "   print(\"the value is exist in the list\")\n",
    "except:\n",
    "    print(\"the value is not exist\")"
   ]
  },
  {
   "cell_type": "code",
   "execution_count": 11,
   "id": "d867b5eb",
   "metadata": {},
   "outputs": [
    {
     "name": "stdout",
     "output_type": "stream",
     "text": [
      "enter a number:xxx\n",
      "that is not a number!\n",
      "this is executed no matter what\n"
     ]
    }
   ],
   "source": [
    "try:\n",
    "    number= int(input('enter a number:'))\n",
    "except ValueError:\n",
    "    print(\"that is not a number!\")\n",
    "else:\n",
    "    print(\"that is not a number!\")\n",
    "finally:\n",
    "    print(\"this is executed no matter what\") "
   ]
  },
  {
   "cell_type": "code",
   "execution_count": 12,
   "id": "385225eb",
   "metadata": {},
   "outputs": [
    {
     "name": "stdout",
     "output_type": "stream",
     "text": [
      "Enter a number: 2\n",
      "0.5\n"
     ]
    }
   ],
   "source": [
    "try:\n",
    "    user_input = input(\"Enter a number: \")\n",
    "    result = 1 / int(user_input)\n",
    "    print(result)\n",
    "except ValueError:\n",
    "    print(\"Please enter a valid integer.\")\n",
    "except ZeroDivisionError:\n",
    "    print(\"Division by zero is not allowed.\")\n"
   ]
  },
  {
   "cell_type": "code",
   "execution_count": 19,
   "id": "e7e7f9dd",
   "metadata": {},
   "outputs": [
    {
     "name": "stdout",
     "output_type": "stream",
     "text": [
      "Enter the first number: 23\n",
      "Enter the second number: 23\n",
      "Enter the operation (+, -, *, /): +\n",
      "Result: 46.0\n"
     ]
    }
   ],
   "source": [
    "def simple_calculator():\n",
    "    while True:\n",
    "        try:\n",
    "            num1 = float(input(\"Enter the first number: \"))\n",
    "            num2 = float(input(\"Enter the second number: \"))\n",
    "            operation = input(\"Enter the operation (+, -, *, /): \")\n",
    "\n",
    "            if operation not in ('+', '-', '*', '/'):\n",
    "                raise ValueError(\"Invalid operation. Please enter +, -, *, or /.\")\n",
    "\n",
    "            if operation == '/' and num2 == 0:\n",
    "                raise ZeroDivisionError(\"Cannot divide by zero. Please enter a non-zero second number.\")\n",
    "\n",
    "            if operation == '+':\n",
    "                result = num1 + num2\n",
    "            elif operation == '-':\n",
    "                result = num1 - num2\n",
    "            elif operation == '*':\n",
    "                result = num1 * num2\n",
    "            elif operation == '/':\n",
    "                result = num1 / num2\n",
    "\n",
    "            print(f\"Result: {result}\")\n",
    "            break\n",
    "\n",
    "        except ValueError:\n",
    "            print(\"Error: Please enter valid numbers.\")\n",
    "        except ZeroDivisionError:\n",
    "            print(\"Error: Cannot divide by zero. Please enter a non-zero second number.\")\n",
    "        except Exception as e:\n",
    "            print(f\"An unexpected error occurred: {e}. Please try again.\")\n",
    "\n",
    "# Run the function\n",
    "simple_calculator()\n",
    "\n"
   ]
  },
  {
   "cell_type": "code",
   "execution_count": null,
   "id": "c8ede850",
   "metadata": {},
   "outputs": [],
   "source": []
  }
 ],
 "metadata": {
  "kernelspec": {
   "display_name": "Python 3 (ipykernel)",
   "language": "python",
   "name": "python3"
  },
  "language_info": {
   "codemirror_mode": {
    "name": "ipython",
    "version": 3
   },
   "file_extension": ".py",
   "mimetype": "text/x-python",
   "name": "python",
   "nbconvert_exporter": "python",
   "pygments_lexer": "ipython3",
   "version": "3.11.5"
  }
 },
 "nbformat": 4,
 "nbformat_minor": 5
}
